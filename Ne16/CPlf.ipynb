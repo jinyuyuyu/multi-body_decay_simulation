{
 "cells": [
  {
   "cell_type": "markdown",
   "metadata": {},
   "source": [
    "# CPlf"
   ]
  },
  {
   "cell_type": "markdown",
   "metadata": {},
   "source": [
    "code: Ne16/200711/include/plf.h   Ne16/200711/src/plf.cpp\n",
    "\n",
    "description: projectile-like fragment (decaying mother after knockout reaction)"
   ]
  },
  {
   "cell_type": "markdown",
   "metadata": {},
   "source": [
    "## plf.h\n",
    "```C++\n",
    "#ifndef PLF_\n",
    "#define PLF_\n",
    "\n",
    "#include <iostream>\n",
    "#include <TMath.h>\n",
    "#include \"frame.h\"\n",
    "#include \"loss.h\"\n",
    "#include \"momDist.h\"\n",
    "#include \"multScat.h\"\n",
    "#include \"constants.h\"\n",
    "\n",
    "using namespace std;\n",
    "\n",
    "class CPlf\n",
    "{\n",
    "  public:\n",
    "    CPlf(double,double,double,string,double,bool);\n",
    "    ~CPlf();\n",
    "    void getPlf(double);\n",
    "    void getPlf1();\n",
    "    void multiScat(double,double);\n",
    "    void getBeam(double,double);\n",
    "\n",
    "    CFrame *beam;\n",
    "    CFrame *frame;\n",
    "    CLoss *loss;\n",
    "    CMomDist *momDist;\n",
    "    CMultScat *multScat;\n",
    "\n",
    "    bool einstein;\n",
    "    double factor;\n",
    "    double mass;\n",
    "};\n",
    "\n",
    "#endif\n",
    "```"
   ]
  },
  {
   "cell_type": "markdown",
   "metadata": {},
   "source": [
    "## plf.cpp\n",
    "\n",
    "### 构造函数\n",
    "\n",
    " * 输入参数\n",
    "  * Z：束流质子数Z\n",
    "  * mbeam：束流质量，单位amu\n",
    "  * mplf：束流和靶的反应产物，即进行质子发射的母核质量，单位amu\n",
    "  * filename：束流能损文件\n",
    "  * thick：靶厚，单位micron\n",
    "  * einstein0：0代表非相对论，1代表相对论计算\n",
    "  \n",
    "```C++\n",
    "CPlf::CPlf(double Z,double mbeam,double mplf,string filename,double thick,bool einstein0)\n",
    "{\n",
    "  einstein = einstein0;\n",
    "  beam = new CFrame(mbeam,einstein); //incident beam\n",
    "  frame = new CFrame(mplf,einstein); //projectile-like nuclei after knockout reaction\n",
    "  loss = new CLoss(filename,mbeam); //loss of beam in target\n",
    "  momDist = new CMomDist(); //knockout momentum distribution\n",
    "  multScat = new CMultScat(Z,thick); //multiple scattering of beam in target\n",
    "  factor = 1.3; //multiple scattering factor\n",
    "  mass = mbeam*amu;\n",
    "}\n",
    "```"
   ]
  },
  {
   "cell_type": "markdown",
   "metadata": {},
   "source": [
    "### 析构函数\n",
    "```C++\n",
    "CPlf::~CPlf()\n",
    "{\n",
    "  delete beam;\n",
    "  delete frame;\n",
    "  delete loss;\n",
    "  delete momDist;\n",
    "  delete multScat;\n",
    "}\n",
    "```"
   ]
  },
  {
   "cell_type": "markdown",
   "metadata": {},
   "source": [
    "### getPlf\n",
    "```C++\n",
    "void CPlf::getPlf(double v_beam)\n",
    "{\n",
    "  double ptrx = momDist->getTransMom()*factor;\n",
    "  double ptry = momDist->getTransMom()*factor;\n",
    "  double pz = momDist->getLongMom()*factor;\n",
    "  ptrx = 497.134;\n",
    "  ptry = -99.5223;\n",
    "  pz = -115.889;\n",
    "  cout << \"ptrx=\" << ptrx << \" ptry=\" << ptry << \" pz=\" << pz << endl;\n",
    "\n",
    "  double ptr = TMath::Sqrt(TMath::Power(ptrx,2)+TMath::Power(ptry,2));\n",
    "  double ptot = TMath::Sqrt(TMath::Power(ptr,2)+TMath::Power(pz,2));\n",
    "  double Etot = TMath::Sqrt(TMath::Power(ptot,2)+TMath::Power(mass,2));\n",
    "\n",
    "  double pz_new = (pz+Etot*v_beam/c)/sqrt(1-TMath::Power(v_beam/c,2));\n",
    "  double pmag = TMath::Sqrt(TMath::Power(pz_new,2)+TMath::Power(ptr,2));\n",
    "  double phi = atan2(ptry,ptrx);\n",
    "  double theta = atan2(ptr,pz_new);\n",
    "  double vv = c*pmag/TMath::Sqrt(TMath::Power(pmag,2)+TMath::Power(mass,2));\n",
    "\n",
    "  frame->v[0] = vv*sin(theta)*cos(phi);\n",
    "  frame->v[1] = vv*sin(theta)*sin(phi);\n",
    "  frame->v[2] = vv*cos(theta);\n",
    "  frame->velocity = vv;\n",
    "  frame->theta = theta;\n",
    "  frame->phi = phi;\n",
    "  cout << \"pmag=\" << pmag << endl;\n",
    "  cout << \"pz_new=\" << pz_new << \" ptr=\" << ptr << endl;\n",
    "  cout << \"vv=\" << vv << \" theta=\" << theta << \" phi=\" << phi << endl;\n",
    "  frame->getEnergy();\n",
    "  cout << \"pmag=\" << frame->pcTot << endl;\n",
    "  cout << \"pz_new=\" << frame->pcTot*cos(frame->theta) << \" ptr=\" << frame->pcTot*sin(frame->theta) << endl;\n",
    "  cout << \"vv=\" << frame->velocity << \" theta=\" << frame->theta << \" phi=\" << frame->phi << endl;\n",
    "}\n",
    "```"
   ]
  },
  {
   "cell_type": "markdown",
   "metadata": {},
   "source": [
    "### getPlf1\n",
    "```C++\n",
    "void CPlf::getPlf1()\n",
    "{\n",
    "  double ptrx = momDist->getTransMom()*factor;\n",
    "  double ptry = momDist->getTransMom()*factor;\n",
    "  double pz = momDist->getLongMom()*factor;\n",
    "  //frame->v[0] = ptrx/mass*c;\n",
    "  //frame->v[1] = ptry/mass*c;\n",
    "  //frame->v[2] = pz/mass*c;\n",
    "  frame->v[0] = ptrx/frame->mass*c;\n",
    "  frame->v[1] = ptry/frame->mass*c;\n",
    "  frame->v[2] = pz/frame->mass*c;\n",
    "  frame->transformVelocity(beam->v);\n",
    "  //cout << \"pmag=\" << frame->pcTot << endl;\n",
    "  //cout << \"pz_new=\" << frame->pcTot*cos(frame->theta) << \" ptr=\" << frame->pcTot*sin(frame->theta) << endl;\n",
    "  //cout << \"vv=\" << frame->velocity << \" theta=\" << frame->theta << \" phi=\" << frame->phi << endl;\n",
    "}\n",
    "```"
   ]
  },
  {
   "cell_type": "markdown",
   "metadata": {},
   "source": [
    "### multiScat\n",
    "```C++\n",
    "void CPlf::multiScat(double Ebeam,double fractionalThick)\n",
    "{\n",
    "  if(fractionalThick == 0.) return;\n",
    "  multScat->scatter(Ebeam,fractionalThick,beam->theta,beam->phi);\n",
    "  double thetaNew = multScat->getThetaNew();\n",
    "  double phiNew = multScat->getPhiNew();\n",
    "\n",
    "  beam->theta = thetaNew;\n",
    "  beam->phi = phiNew;\n",
    "  //cout << \"beam->theta=\" << beam->theta << \" beam->phi=\" << beam->phi << \" beam->energy=\" << beam->energy << endl;\n",
    "  beam->getVelocity();\n",
    "}\n",
    "```"
   ]
  },
  {
   "cell_type": "markdown",
   "metadata": {},
   "source": [
    "### getBeam\n",
    "```C++\n",
    "void CPlf::getBeam(double Ebeam,double thick)\n",
    "{\n",
    "  beam->energy = Ebeam;\n",
    "  beam->theta = 0;\n",
    "  beam->phi = 0;\n",
    "  \n",
    "  if(thick>0)\n",
    "    beam->energy = loss->getEout(Ebeam,thick/cos(beam->theta));\n",
    "  beam->getVelocity();\n",
    "}\n",
    "```"
   ]
  }
 ],
 "metadata": {
  "kernelspec": {
   "display_name": "ROOT C++",
   "language": "c++",
   "name": "root"
  },
  "language_info": {
   "codemirror_mode": "text/x-c++src",
   "file_extension": ".C",
   "mimetype": " text/x-c++src",
   "name": "c++"
  },
  "toc": {
   "base_numbering": 1,
   "nav_menu": {},
   "number_sections": true,
   "sideBar": true,
   "skip_h1_title": false,
   "title_cell": "Table of Contents",
   "title_sidebar": "Contents",
   "toc_cell": false,
   "toc_position": {},
   "toc_section_display": true,
   "toc_window_display": true
  }
 },
 "nbformat": 4,
 "nbformat_minor": 2
}
